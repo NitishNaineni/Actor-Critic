{
 "cells": [
  {
   "cell_type": "code",
   "execution_count": 3,
   "metadata": {},
   "outputs": [],
   "source": [
    "import gym\n",
    "import torch \n",
    "import torch.nn as nn\n",
    "import torch.nn.functional as F\n",
    "import torch.optim as optim\n",
    "from torch.distributions import Categorical\n",
    "import matplotlib.pyplot as plt  \n",
    "import numpy as np\n",
    "import random\n",
    "from collections import deque, namedtuple\n"
   ]
  },
  {
   "cell_type": "code",
   "execution_count": 67,
   "metadata": {},
   "outputs": [],
   "source": [
    "class Actor(nn.Module):\n",
    "    \n",
    "    def __init__(self, input_dim, output_dim, hidden_nodes):\n",
    "        super(Policy, self).__init__()\n",
    "        self.input_dim = input_dim\n",
    "        self.output_dimput_dim = output_dim\n",
    "        self.hn = hidden_nodes\n",
    "        \n",
    "        self.fc1 = nn.Linear(self.input_dim, self.hn)\n",
    "        self.fc2 = nn.Linear(self.hn, self.hn)\n",
    "        self.fc3 = nn.Linear(self.hn, self.output_dim)\n",
    "        \n",
    "    def forward(self, x):\n",
    "        x = F.relu(self.fc1(x))\n",
    "        x = F.relu(self.fc2(x))\n",
    "        x = F.softmax(self.fc3(x, dim=1)) # This computes a distribution from which we can sample and take log of for the gradient decent\n",
    "        return x \n",
    "    \n",
    "class Critic(nn.Module):\n",
    "    \n",
    "    def __init__(self, input_dim, hidden_nodes):\n",
    "        self.input_dim = input_dim\n",
    "        self.hn = hidden_nodes\n",
    "        \n",
    "        self.fc1 = nn.Linear(self.input_dim, self.hn)\n",
    "        self.fc2 = nn.Linear(self.hn , self.hn)\n",
    "        self.fc3 = nn.Linear(self.hn, 1) # Outputs a Q value of the state\n",
    "        \n",
    "    def forward(self, x):\n",
    "        x = F.relu(self.fc1(x))\n",
    "        x = F.relu(self.fc2(x))\n",
    "        x = F.relu(self.fc3(x))\n",
    "        return x"
   ]
  },
  {
   "cell_type": "code",
   "execution_count": null,
   "metadata": {},
   "outputs": [],
   "source": []
  },
  {
   "cell_type": "code",
   "execution_count": null,
   "metadata": {},
   "outputs": [],
   "source": [
    "def train(env, epochs, actor, critic):\n",
    "    \n",
    "    actor_optimizer = optim.Adam(actor.parameters())\n",
    "    critic_optimizer = optim.Adam(critic.parameters())\n",
    "    translate = namedtuple('translate',\n",
    "                        ('state', 'action_prob', 'critic_q', 'reward', 'next_state', 'done'))\n",
    "\n",
    "    \n",
    "\n",
    "    for i in range(epochs):\n",
    "        mini_batch = []\n",
    "        obs = env.reset()\n",
    "        \n",
    "        while not done:\n",
    "            obs = torch.from_numpy(obs).type(torch.float)\n",
    "            # Do we need the exploration exploitation?\n",
    "            action_prob  = actor(obs)\n",
    "            m = Categorical(action_prob)\n",
    "            action = action_prob.sample(m)\n",
    "            action_prob = m.log_prob(action)\n",
    "            \n",
    "            next_obs, reward, done, info = env.step(action)\n",
    "            critic_q = critic(next_obs)\n",
    "\n",
    "            obs = torch.tensor(obs, dtype=torch.float32)\n",
    "            reward = torch.tensor(reward, dtype=torch.float32)\n",
    "            next_obs = torch.tensor(next_obs, dtype=torch.float32)\n",
    "\n",
    "            mini_batch.append(translate(obs, action_prob, critic_q, reward, next_obs))\n",
    "            \n",
    "            obs = next_obs\n",
    "            \n",
    "        state = torch.stack(mini_batch.state)\n",
    "        action_prob = torch.stack(mini_batch.action_prob)\n",
    "        critic_q = torch.stack(mini_batch.critic_q)\n",
    "        reward = torch.stack(mini_batch.reward)\n",
    "        next_state = torch.stack(mini_batch.next_state)\n",
    "        done = torch.stack(mini_batch.done)\n",
    "\n",
    "        \n",
    "\n",
    "\n",
    "    \n",
    "    "
   ]
  },
  {
   "cell_type": "code",
   "execution_count": 5,
   "metadata": {},
   "outputs": [
    {
     "name": "stdout",
     "output_type": "stream",
     "text": [
      "Discrete(3)\n"
     ]
    }
   ],
   "source": [
    "env = gym.make(\"Acrobot-v1\")\n",
    "print(env.action_space)"
   ]
  },
  {
   "cell_type": "code",
   "execution_count": null,
   "metadata": {},
   "outputs": [],
   "source": []
  },
  {
   "cell_type": "code",
   "execution_count": null,
   "metadata": {},
   "outputs": [],
   "source": []
  },
  {
   "cell_type": "code",
   "execution_count": null,
   "metadata": {},
   "outputs": [],
   "source": []
  },
  {
   "cell_type": "code",
   "execution_count": null,
   "metadata": {},
   "outputs": [],
   "source": []
  }
 ],
 "metadata": {
  "interpreter": {
   "hash": "7d15a3258ed890393d55d2a553394250e00c408071094df2492a0a7cd6038fb0"
  },
  "kernelspec": {
   "display_name": "Python 3 (ipykernel)",
   "language": "python",
   "name": "python3"
  },
  "language_info": {
   "codemirror_mode": {
    "name": "ipython",
    "version": 3
   },
   "file_extension": ".py",
   "mimetype": "text/x-python",
   "name": "python",
   "nbconvert_exporter": "python",
   "pygments_lexer": "ipython3",
   "version": "3.8.12"
  }
 },
 "nbformat": 4,
 "nbformat_minor": 4
}
