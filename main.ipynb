{
 "cells": [
  {
   "cell_type": "code",
   "execution_count": 198,
   "metadata": {},
   "outputs": [],
   "source": [
    "import numpy as np\n",
    "import sys\n",
    "import torch\n",
    "import gym\n",
    "from torch import nn\n",
    "import torch.optim as optim\n",
    "import torch.nn.functional as F\n",
    "from torch.distributions import Categorical\n",
    "from IPython.display import clear_output\n",
    "import matplotlib.pyplot as plt"
   ]
  },
  {
   "cell_type": "code",
   "execution_count": 199,
   "metadata": {},
   "outputs": [],
   "source": [
    "class ActorCritic(nn.Module):\n",
    "    def __init__(self, state_dim, n_actions, gamma):\n",
    "        super(ActorCritic, self).__init__()\n",
    "        self.common = nn.Linear(state_dim,128)\n",
    "        self.action_layer = nn.Linear(128, n_actions)\n",
    "        self.critic_layer = nn.Linear(128, 1)\n",
    "        \n",
    "        self.logprobs = []\n",
    "        self.values = []\n",
    "        self.rewards = []\n",
    "\n",
    "        self.gamma = gamma\n",
    "    \n",
    "    def clear(self):\n",
    "        self.logprobs.clear()\n",
    "        self.values.clear()\n",
    "        self.rewards.clear()\n",
    "\n",
    "    def forward(self, x):\n",
    "        # x = torch.from_numpy(x).float().to(device)\n",
    "        x = torch.from_numpy(x).float()\n",
    "        x = F.relu(self.common(x))\n",
    "\n",
    "        critic_value = self.critic_layer(x)\n",
    "\n",
    "        probs = F.softmax(self.action_layer(x),dim=0)\n",
    "        dist = Categorical(probs)\n",
    "        action = dist.sample()\n",
    "\n",
    "        self.logprobs.append(dist.log_prob(action))\n",
    "        self.values.append(critic_value)\n",
    "\n",
    "        return action.item()\n",
    "\n",
    "    def get_dat_loss(self):\n",
    "        rewards = []\n",
    "        discount_reward = 0\n",
    "        for reward in self.rewards[::-1]:\n",
    "            discount_reward = reward + self.gamma * discount_reward\n",
    "            rewards.append(discount_reward)\n",
    "        rewards.reverse()\n",
    "        \n",
    "        # rewards = torch.tensor(rewards).to(device)\n",
    "        rewards = torch.tensor(rewards)\n",
    "        reward_len = len(rewards)\n",
    "        # normalize\n",
    "        rewards = (rewards - rewards.mean()) / (rewards.std())\n",
    "        rewards.resize_(reward_len, 1)\n",
    "\n",
    "        cum_loss = 0\n",
    "\n",
    "        for logprob, value, reward in zip(self.logprobs, self.values, rewards):\n",
    "            advantage = (reward - value.item())\n",
    "            actor_loss = -logprob * advantage\n",
    "            critic_loss = F.smooth_l1_loss(value, reward)\n",
    "            cum_loss += (actor_loss + critic_loss)\n",
    "        \n",
    "        return cum_loss"
   ]
  },
  {
   "cell_type": "code",
   "execution_count": 200,
   "metadata": {},
   "outputs": [],
   "source": [
    "lr = 0.02\n",
    "betas = (0.9, 0.999)\n",
    "gamma = 0.99\n",
    "episodes = 10000\n",
    "max_iterations = 10000"
   ]
  },
  {
   "cell_type": "code",
   "execution_count": 201,
   "metadata": {},
   "outputs": [],
   "source": [
    "device = 'cuda' if torch.cuda.is_available() else 'cpu'\n",
    "env = gym.make('LunarLander-v2')\n",
    "state_dim = env.observation_space.shape[0]\n",
    "n_actions = env.action_space.n\n",
    "# A2C = ActorCritic(state_dim, n_actions, gamma).to(device)\n",
    "A2C = ActorCritic(state_dim, n_actions, gamma)\n",
    "optimizer = optim.Adam(A2C.parameters(), lr=lr, betas=betas)"
   ]
  },
  {
   "cell_type": "code",
   "execution_count": 202,
   "metadata": {},
   "outputs": [
    {
     "name": "stdout",
     "output_type": "stream",
     "text": [
      "[127/10000] episode reward: 3 cummulative reward: -14554                               \r"
     ]
    },
    {
     "ename": "KeyboardInterrupt",
     "evalue": "",
     "output_type": "error",
     "traceback": [
      "\u001b[1;31m---------------------------------------------------------------------------\u001b[0m",
      "\u001b[1;31mKeyboardInterrupt\u001b[0m                         Traceback (most recent call last)",
      "\u001b[1;32mc:\\Users\\naine\\Documents\\github\\Actor-Critic\\main.ipynb Cell 5'\u001b[0m in \u001b[0;36m<module>\u001b[1;34m\u001b[0m\n\u001b[0;32m      <a href='vscode-notebook-cell:/c%3A/Users/naine/Documents/github/Actor-Critic/main.ipynb#ch0000005?line=4'>5</a>\u001b[0m total_reward \u001b[39m=\u001b[39m \u001b[39m0\u001b[39m\n\u001b[0;32m      <a href='vscode-notebook-cell:/c%3A/Users/naine/Documents/github/Actor-Critic/main.ipynb#ch0000005?line=5'>6</a>\u001b[0m \u001b[39mfor\u001b[39;00m \u001b[39miter\u001b[39m \u001b[39min\u001b[39;00m \u001b[39mrange\u001b[39m(max_iterations):\n\u001b[1;32m----> <a href='vscode-notebook-cell:/c%3A/Users/naine/Documents/github/Actor-Critic/main.ipynb#ch0000005?line=6'>7</a>\u001b[0m     action  \u001b[39m=\u001b[39m A2C(obs)\n\u001b[0;32m      <a href='vscode-notebook-cell:/c%3A/Users/naine/Documents/github/Actor-Critic/main.ipynb#ch0000005?line=7'>8</a>\u001b[0m     obs, reward, done, _ \u001b[39m=\u001b[39m env\u001b[39m.\u001b[39mstep(action)\n\u001b[0;32m      <a href='vscode-notebook-cell:/c%3A/Users/naine/Documents/github/Actor-Critic/main.ipynb#ch0000005?line=8'>9</a>\u001b[0m     A2C\u001b[39m.\u001b[39mrewards\u001b[39m.\u001b[39mappend(reward)\n",
      "File \u001b[1;32m~\\def\\lib\\site-packages\\torch\\nn\\modules\\module.py:1110\u001b[0m, in \u001b[0;36mModule._call_impl\u001b[1;34m(self, *input, **kwargs)\u001b[0m\n\u001b[0;32m   <a href='file:///c%3A/Users/naine/def/lib/site-packages/torch/nn/modules/module.py?line=1105'>1106</a>\u001b[0m \u001b[39m# If we don't have any hooks, we want to skip the rest of the logic in\u001b[39;00m\n\u001b[0;32m   <a href='file:///c%3A/Users/naine/def/lib/site-packages/torch/nn/modules/module.py?line=1106'>1107</a>\u001b[0m \u001b[39m# this function, and just call forward.\u001b[39;00m\n\u001b[0;32m   <a href='file:///c%3A/Users/naine/def/lib/site-packages/torch/nn/modules/module.py?line=1107'>1108</a>\u001b[0m \u001b[39mif\u001b[39;00m \u001b[39mnot\u001b[39;00m (\u001b[39mself\u001b[39m\u001b[39m.\u001b[39m_backward_hooks \u001b[39mor\u001b[39;00m \u001b[39mself\u001b[39m\u001b[39m.\u001b[39m_forward_hooks \u001b[39mor\u001b[39;00m \u001b[39mself\u001b[39m\u001b[39m.\u001b[39m_forward_pre_hooks \u001b[39mor\u001b[39;00m _global_backward_hooks\n\u001b[0;32m   <a href='file:///c%3A/Users/naine/def/lib/site-packages/torch/nn/modules/module.py?line=1108'>1109</a>\u001b[0m         \u001b[39mor\u001b[39;00m _global_forward_hooks \u001b[39mor\u001b[39;00m _global_forward_pre_hooks):\n\u001b[1;32m-> <a href='file:///c%3A/Users/naine/def/lib/site-packages/torch/nn/modules/module.py?line=1109'>1110</a>\u001b[0m     \u001b[39mreturn\u001b[39;00m forward_call(\u001b[39m*\u001b[39m\u001b[39minput\u001b[39m, \u001b[39m*\u001b[39m\u001b[39m*\u001b[39mkwargs)\n\u001b[0;32m   <a href='file:///c%3A/Users/naine/def/lib/site-packages/torch/nn/modules/module.py?line=1110'>1111</a>\u001b[0m \u001b[39m# Do not call functions when jit is used\u001b[39;00m\n\u001b[0;32m   <a href='file:///c%3A/Users/naine/def/lib/site-packages/torch/nn/modules/module.py?line=1111'>1112</a>\u001b[0m full_backward_hooks, non_full_backward_hooks \u001b[39m=\u001b[39m [], []\n",
      "\u001b[1;32mc:\\Users\\naine\\Documents\\github\\Actor-Critic\\main.ipynb Cell 2'\u001b[0m in \u001b[0;36mActorCritic.forward\u001b[1;34m(self, x)\u001b[0m\n\u001b[0;32m     <a href='vscode-notebook-cell:/c%3A/Users/naine/Documents/github/Actor-Critic/main.ipynb#ch0000002?line=23'>24</a>\u001b[0m critic_value \u001b[39m=\u001b[39m \u001b[39mself\u001b[39m\u001b[39m.\u001b[39mcritic_layer(x)\n\u001b[0;32m     <a href='vscode-notebook-cell:/c%3A/Users/naine/Documents/github/Actor-Critic/main.ipynb#ch0000002?line=25'>26</a>\u001b[0m probs \u001b[39m=\u001b[39m F\u001b[39m.\u001b[39msoftmax(\u001b[39mself\u001b[39m\u001b[39m.\u001b[39maction_layer(x),dim\u001b[39m=\u001b[39m\u001b[39m0\u001b[39m)\n\u001b[1;32m---> <a href='vscode-notebook-cell:/c%3A/Users/naine/Documents/github/Actor-Critic/main.ipynb#ch0000002?line=26'>27</a>\u001b[0m dist \u001b[39m=\u001b[39m Categorical(probs)\n\u001b[0;32m     <a href='vscode-notebook-cell:/c%3A/Users/naine/Documents/github/Actor-Critic/main.ipynb#ch0000002?line=27'>28</a>\u001b[0m action \u001b[39m=\u001b[39m dist\u001b[39m.\u001b[39msample()\n\u001b[0;32m     <a href='vscode-notebook-cell:/c%3A/Users/naine/Documents/github/Actor-Critic/main.ipynb#ch0000002?line=29'>30</a>\u001b[0m \u001b[39mself\u001b[39m\u001b[39m.\u001b[39mlogprobs\u001b[39m.\u001b[39mappend(dist\u001b[39m.\u001b[39mlog_prob(action))\n",
      "File \u001b[1;32m~\\def\\lib\\site-packages\\torch\\distributions\\categorical.py:64\u001b[0m, in \u001b[0;36mCategorical.__init__\u001b[1;34m(self, probs, logits, validate_args)\u001b[0m\n\u001b[0;32m     <a href='file:///c%3A/Users/naine/def/lib/site-packages/torch/distributions/categorical.py?line=61'>62</a>\u001b[0m \u001b[39mself\u001b[39m\u001b[39m.\u001b[39m_num_events \u001b[39m=\u001b[39m \u001b[39mself\u001b[39m\u001b[39m.\u001b[39m_param\u001b[39m.\u001b[39msize()[\u001b[39m-\u001b[39m\u001b[39m1\u001b[39m]\n\u001b[0;32m     <a href='file:///c%3A/Users/naine/def/lib/site-packages/torch/distributions/categorical.py?line=62'>63</a>\u001b[0m batch_shape \u001b[39m=\u001b[39m \u001b[39mself\u001b[39m\u001b[39m.\u001b[39m_param\u001b[39m.\u001b[39msize()[:\u001b[39m-\u001b[39m\u001b[39m1\u001b[39m] \u001b[39mif\u001b[39;00m \u001b[39mself\u001b[39m\u001b[39m.\u001b[39m_param\u001b[39m.\u001b[39mndimension() \u001b[39m>\u001b[39m \u001b[39m1\u001b[39m \u001b[39melse\u001b[39;00m torch\u001b[39m.\u001b[39mSize()\n\u001b[1;32m---> <a href='file:///c%3A/Users/naine/def/lib/site-packages/torch/distributions/categorical.py?line=63'>64</a>\u001b[0m \u001b[39msuper\u001b[39;49m(Categorical, \u001b[39mself\u001b[39;49m)\u001b[39m.\u001b[39;49m\u001b[39m__init__\u001b[39;49m(batch_shape, validate_args\u001b[39m=\u001b[39;49mvalidate_args)\n",
      "File \u001b[1;32m~\\def\\lib\\site-packages\\torch\\distributions\\distribution.py:53\u001b[0m, in \u001b[0;36mDistribution.__init__\u001b[1;34m(self, batch_shape, event_shape, validate_args)\u001b[0m\n\u001b[0;32m     <a href='file:///c%3A/Users/naine/def/lib/site-packages/torch/distributions/distribution.py?line=50'>51</a>\u001b[0m     \u001b[39mcontinue\u001b[39;00m  \u001b[39m# skip checking lazily-constructed args\u001b[39;00m\n\u001b[0;32m     <a href='file:///c%3A/Users/naine/def/lib/site-packages/torch/distributions/distribution.py?line=51'>52</a>\u001b[0m value \u001b[39m=\u001b[39m \u001b[39mgetattr\u001b[39m(\u001b[39mself\u001b[39m, param)\n\u001b[1;32m---> <a href='file:///c%3A/Users/naine/def/lib/site-packages/torch/distributions/distribution.py?line=52'>53</a>\u001b[0m valid \u001b[39m=\u001b[39m constraint\u001b[39m.\u001b[39;49mcheck(value)\n\u001b[0;32m     <a href='file:///c%3A/Users/naine/def/lib/site-packages/torch/distributions/distribution.py?line=53'>54</a>\u001b[0m \u001b[39mif\u001b[39;00m \u001b[39mnot\u001b[39;00m valid\u001b[39m.\u001b[39mall():\n\u001b[0;32m     <a href='file:///c%3A/Users/naine/def/lib/site-packages/torch/distributions/distribution.py?line=54'>55</a>\u001b[0m     \u001b[39mraise\u001b[39;00m \u001b[39mValueError\u001b[39;00m(\n\u001b[0;32m     <a href='file:///c%3A/Users/naine/def/lib/site-packages/torch/distributions/distribution.py?line=55'>56</a>\u001b[0m         \u001b[39mf\u001b[39m\u001b[39m\"\u001b[39m\u001b[39mExpected parameter \u001b[39m\u001b[39m{\u001b[39;00mparam\u001b[39m}\u001b[39;00m\u001b[39m \u001b[39m\u001b[39m\"\u001b[39m\n\u001b[0;32m     <a href='file:///c%3A/Users/naine/def/lib/site-packages/torch/distributions/distribution.py?line=56'>57</a>\u001b[0m         \u001b[39mf\u001b[39m\u001b[39m\"\u001b[39m\u001b[39m(\u001b[39m\u001b[39m{\u001b[39;00m\u001b[39mtype\u001b[39m(value)\u001b[39m.\u001b[39m\u001b[39m__name__\u001b[39m\u001b[39m}\u001b[39;00m\u001b[39m of shape \u001b[39m\u001b[39m{\u001b[39;00m\u001b[39mtuple\u001b[39m(value\u001b[39m.\u001b[39mshape)\u001b[39m}\u001b[39;00m\u001b[39m) \u001b[39m\u001b[39m\"\u001b[39m\n\u001b[1;32m   (...)\u001b[0m\n\u001b[0;32m     <a href='file:///c%3A/Users/naine/def/lib/site-packages/torch/distributions/distribution.py?line=59'>60</a>\u001b[0m         \u001b[39mf\u001b[39m\u001b[39m\"\u001b[39m\u001b[39mbut found invalid values:\u001b[39m\u001b[39m\\n\u001b[39;00m\u001b[39m{\u001b[39;00mvalue\u001b[39m}\u001b[39;00m\u001b[39m\"\u001b[39m\n\u001b[0;32m     <a href='file:///c%3A/Users/naine/def/lib/site-packages/torch/distributions/distribution.py?line=60'>61</a>\u001b[0m     )\n",
      "File \u001b[1;32m~\\def\\lib\\site-packages\\torch\\distributions\\constraints.py:406\u001b[0m, in \u001b[0;36m_Simplex.check\u001b[1;34m(self, value)\u001b[0m\n\u001b[0;32m    <a href='file:///c%3A/Users/naine/def/lib/site-packages/torch/distributions/constraints.py?line=404'>405</a>\u001b[0m \u001b[39mdef\u001b[39;00m \u001b[39mcheck\u001b[39m(\u001b[39mself\u001b[39m, value):\n\u001b[1;32m--> <a href='file:///c%3A/Users/naine/def/lib/site-packages/torch/distributions/constraints.py?line=405'>406</a>\u001b[0m     \u001b[39mreturn\u001b[39;00m torch\u001b[39m.\u001b[39mall(value \u001b[39m>\u001b[39;49m\u001b[39m=\u001b[39;49m \u001b[39m0\u001b[39;49m, dim\u001b[39m=\u001b[39m\u001b[39m-\u001b[39m\u001b[39m1\u001b[39m) \u001b[39m&\u001b[39m ((value\u001b[39m.\u001b[39msum(\u001b[39m-\u001b[39m\u001b[39m1\u001b[39m) \u001b[39m-\u001b[39m \u001b[39m1\u001b[39m)\u001b[39m.\u001b[39mabs() \u001b[39m<\u001b[39m \u001b[39m1e-6\u001b[39m)\n",
      "\u001b[1;31mKeyboardInterrupt\u001b[0m: "
     ]
    }
   ],
   "source": [
    "cum_reward = 0\n",
    "episode_rewards = []\n",
    "for episode in range(episodes):\n",
    "    obs = env.reset()\n",
    "    total_reward = 0\n",
    "    for iter in range(max_iterations):\n",
    "        action  = A2C(obs)\n",
    "        obs, reward, done, _ = env.step(action)\n",
    "        A2C.rewards.append(reward)\n",
    "        cum_reward += reward\n",
    "        total_reward += reward\n",
    "        if done:\n",
    "            break\n",
    "    \n",
    "    optimizer.zero_grad()\n",
    "    loss = A2C.get_dat_loss()\n",
    "    loss.backward()\n",
    "    optimizer.step()\n",
    "    A2C.clear()\n",
    "\n",
    "\n",
    "    print(f\"[{episode+1}/{episodes}] episode reward: {round(total_reward)} cummulative reward: {round(cum_reward)}\",\" \"*10,end='\\r')"
   ]
  },
  {
   "cell_type": "code",
   "execution_count": null,
   "metadata": {},
   "outputs": [],
   "source": []
  }
 ],
 "metadata": {
  "interpreter": {
   "hash": "594746bd58ad4cf9d83a9cb214b5f9a36400c8f0eefec10d2e821da258796cec"
  },
  "kernelspec": {
   "display_name": "def",
   "language": "python",
   "name": "python3"
  },
  "language_info": {
   "codemirror_mode": {
    "name": "ipython",
    "version": 3
   },
   "file_extension": ".py",
   "mimetype": "text/x-python",
   "name": "python",
   "nbconvert_exporter": "python",
   "pygments_lexer": "ipython3",
   "version": "3.9.10"
  },
  "orig_nbformat": 4
 },
 "nbformat": 4,
 "nbformat_minor": 2
}
